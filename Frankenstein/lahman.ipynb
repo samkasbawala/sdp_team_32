{
 "cells": [
  {
   "cell_type": "code",
   "execution_count": 1,
   "metadata": {},
   "outputs": [],
   "source": [
    "# To support both python 2 and python 3\n",
    "from __future__ import division, print_function, unicode_literals\n",
    "\n",
    "# Common imports\n",
    "import numpy as np\n",
    "import os\n",
    "\n",
    "# to make this notebook's output stable across runs\n",
    "np.random.seed(42)\n",
    "\n",
    "# To plot pretty figures\n",
    "%matplotlib inline\n",
    "import matplotlib as mpl\n",
    "import matplotlib.pyplot as plt\n",
    "mpl.rc('axes', labelsize=14)\n",
    "mpl.rc('xtick', labelsize=12)\n",
    "mpl.rc('ytick', labelsize=12)\n",
    "\n",
    "# Where to save the figures\n",
    "PROJECT_ROOT_DIR = \"../datasets/lahman\"\n",
    "IMAGES_PATH = os.path.join(PROJECT_ROOT_DIR, \"images\")\n",
    "\n",
    "def save_fig(fig_id, tight_layout=True, fig_extension=\"png\", resolution=300):\n",
    "    path = os.path.join(IMAGES_PATH, fig_id + \".\" + fig_extension)\n",
    "    print(\"Saving figure\", fig_id)\n",
    "    if tight_layout:\n",
    "        plt.tight_layout()\n",
    "    plt.savefig(path, format=fig_extension, dpi=resolution)\n",
    "\n",
    "# Ignore useless warnings (see SciPy issue #5998)\n",
    "import warnings\n",
    "warnings.filterwarnings(action=\"ignore\", message=\"^internal gelsd\")"
   ]
  },
  {
   "cell_type": "code",
   "execution_count": 2,
   "metadata": {},
   "outputs": [],
   "source": [
    "import pandas as pd\n",
    "\n",
    "BASEBALL_PATH = os.path.join('..', 'datasets', 'lahman')\n",
    "PITCHERS = 'Pitching.csv'\n",
    "\n",
    "def load_baseball_data(baseball_path=BASEBALL_PATH, data_csv=PITCHERS):\n",
    "    csv_path=os.path.join(baseball_path, data_csv)\n",
    "    return pd.read_csv(csv_path)"
   ]
  },
  {
   "cell_type": "code",
   "execution_count": 3,
   "metadata": {},
   "outputs": [
    {
     "data": {
      "text/html": [
       "<div>\n",
       "<style scoped>\n",
       "    .dataframe tbody tr th:only-of-type {\n",
       "        vertical-align: middle;\n",
       "    }\n",
       "\n",
       "    .dataframe tbody tr th {\n",
       "        vertical-align: top;\n",
       "    }\n",
       "\n",
       "    .dataframe thead th {\n",
       "        text-align: right;\n",
       "    }\n",
       "</style>\n",
       "<table border=\"1\" class=\"dataframe\">\n",
       "  <thead>\n",
       "    <tr style=\"text-align: right;\">\n",
       "      <th></th>\n",
       "      <th>yearID</th>\n",
       "      <th>lgID</th>\n",
       "      <th>teamID</th>\n",
       "      <th>franchID</th>\n",
       "      <th>divID</th>\n",
       "      <th>Rank</th>\n",
       "      <th>G</th>\n",
       "      <th>Ghome</th>\n",
       "      <th>W</th>\n",
       "      <th>L</th>\n",
       "      <th>...</th>\n",
       "      <th>DP</th>\n",
       "      <th>FP</th>\n",
       "      <th>name</th>\n",
       "      <th>park</th>\n",
       "      <th>attendance</th>\n",
       "      <th>BPF</th>\n",
       "      <th>PPF</th>\n",
       "      <th>teamIDBR</th>\n",
       "      <th>teamIDlahman45</th>\n",
       "      <th>teamIDretro</th>\n",
       "    </tr>\n",
       "  </thead>\n",
       "  <tbody>\n",
       "    <tr>\n",
       "      <th>0</th>\n",
       "      <td>1871</td>\n",
       "      <td>NaN</td>\n",
       "      <td>BS1</td>\n",
       "      <td>BNA</td>\n",
       "      <td>NaN</td>\n",
       "      <td>3</td>\n",
       "      <td>31</td>\n",
       "      <td>NaN</td>\n",
       "      <td>20</td>\n",
       "      <td>10</td>\n",
       "      <td>...</td>\n",
       "      <td>24</td>\n",
       "      <td>0.834</td>\n",
       "      <td>Boston Red Stockings</td>\n",
       "      <td>South End Grounds I</td>\n",
       "      <td>NaN</td>\n",
       "      <td>103</td>\n",
       "      <td>98</td>\n",
       "      <td>BOS</td>\n",
       "      <td>BS1</td>\n",
       "      <td>BS1</td>\n",
       "    </tr>\n",
       "    <tr>\n",
       "      <th>1</th>\n",
       "      <td>1871</td>\n",
       "      <td>NaN</td>\n",
       "      <td>CH1</td>\n",
       "      <td>CNA</td>\n",
       "      <td>NaN</td>\n",
       "      <td>2</td>\n",
       "      <td>28</td>\n",
       "      <td>NaN</td>\n",
       "      <td>19</td>\n",
       "      <td>9</td>\n",
       "      <td>...</td>\n",
       "      <td>16</td>\n",
       "      <td>0.829</td>\n",
       "      <td>Chicago White Stockings</td>\n",
       "      <td>Union Base-Ball Grounds</td>\n",
       "      <td>NaN</td>\n",
       "      <td>104</td>\n",
       "      <td>102</td>\n",
       "      <td>CHI</td>\n",
       "      <td>CH1</td>\n",
       "      <td>CH1</td>\n",
       "    </tr>\n",
       "    <tr>\n",
       "      <th>2</th>\n",
       "      <td>1871</td>\n",
       "      <td>NaN</td>\n",
       "      <td>CL1</td>\n",
       "      <td>CFC</td>\n",
       "      <td>NaN</td>\n",
       "      <td>8</td>\n",
       "      <td>29</td>\n",
       "      <td>NaN</td>\n",
       "      <td>10</td>\n",
       "      <td>19</td>\n",
       "      <td>...</td>\n",
       "      <td>15</td>\n",
       "      <td>0.818</td>\n",
       "      <td>Cleveland Forest Citys</td>\n",
       "      <td>National Association Grounds</td>\n",
       "      <td>NaN</td>\n",
       "      <td>96</td>\n",
       "      <td>100</td>\n",
       "      <td>CLE</td>\n",
       "      <td>CL1</td>\n",
       "      <td>CL1</td>\n",
       "    </tr>\n",
       "    <tr>\n",
       "      <th>3</th>\n",
       "      <td>1871</td>\n",
       "      <td>NaN</td>\n",
       "      <td>FW1</td>\n",
       "      <td>KEK</td>\n",
       "      <td>NaN</td>\n",
       "      <td>7</td>\n",
       "      <td>19</td>\n",
       "      <td>NaN</td>\n",
       "      <td>7</td>\n",
       "      <td>12</td>\n",
       "      <td>...</td>\n",
       "      <td>8</td>\n",
       "      <td>0.803</td>\n",
       "      <td>Fort Wayne Kekiongas</td>\n",
       "      <td>Hamilton Field</td>\n",
       "      <td>NaN</td>\n",
       "      <td>101</td>\n",
       "      <td>107</td>\n",
       "      <td>KEK</td>\n",
       "      <td>FW1</td>\n",
       "      <td>FW1</td>\n",
       "    </tr>\n",
       "    <tr>\n",
       "      <th>4</th>\n",
       "      <td>1871</td>\n",
       "      <td>NaN</td>\n",
       "      <td>NY2</td>\n",
       "      <td>NNA</td>\n",
       "      <td>NaN</td>\n",
       "      <td>5</td>\n",
       "      <td>33</td>\n",
       "      <td>NaN</td>\n",
       "      <td>16</td>\n",
       "      <td>17</td>\n",
       "      <td>...</td>\n",
       "      <td>14</td>\n",
       "      <td>0.840</td>\n",
       "      <td>New York Mutuals</td>\n",
       "      <td>Union Grounds (Brooklyn)</td>\n",
       "      <td>NaN</td>\n",
       "      <td>90</td>\n",
       "      <td>88</td>\n",
       "      <td>NYU</td>\n",
       "      <td>NY2</td>\n",
       "      <td>NY2</td>\n",
       "    </tr>\n",
       "  </tbody>\n",
       "</table>\n",
       "<p>5 rows × 48 columns</p>\n",
       "</div>"
      ],
      "text/plain": [
       "   yearID lgID teamID franchID divID  Rank   G  Ghome   W   L  ...  DP     FP  \\\n",
       "0    1871  NaN    BS1      BNA   NaN     3  31    NaN  20  10  ...  24  0.834   \n",
       "1    1871  NaN    CH1      CNA   NaN     2  28    NaN  19   9  ...  16  0.829   \n",
       "2    1871  NaN    CL1      CFC   NaN     8  29    NaN  10  19  ...  15  0.818   \n",
       "3    1871  NaN    FW1      KEK   NaN     7  19    NaN   7  12  ...   8  0.803   \n",
       "4    1871  NaN    NY2      NNA   NaN     5  33    NaN  16  17  ...  14  0.840   \n",
       "\n",
       "                      name                          park  attendance  BPF  \\\n",
       "0     Boston Red Stockings           South End Grounds I         NaN  103   \n",
       "1  Chicago White Stockings       Union Base-Ball Grounds         NaN  104   \n",
       "2   Cleveland Forest Citys  National Association Grounds         NaN   96   \n",
       "3     Fort Wayne Kekiongas                Hamilton Field         NaN  101   \n",
       "4         New York Mutuals      Union Grounds (Brooklyn)         NaN   90   \n",
       "\n",
       "   PPF  teamIDBR  teamIDlahman45  teamIDretro  \n",
       "0   98       BOS             BS1          BS1  \n",
       "1  102       CHI             CH1          CH1  \n",
       "2  100       CLE             CL1          CL1  \n",
       "3  107       KEK             FW1          FW1  \n",
       "4   88       NYU             NY2          NY2  \n",
       "\n",
       "[5 rows x 48 columns]"
      ]
     },
     "execution_count": 3,
     "metadata": {},
     "output_type": "execute_result"
    }
   ],
   "source": [
    "teams = load_baseball_data(data_csv='Teams.csv')\n",
    "teams.head()"
   ]
  },
  {
   "cell_type": "code",
   "execution_count": 4,
   "metadata": {},
   "outputs": [
    {
     "data": {
      "text/plain": [
       "[RangeIndex(start=0, stop=2925, step=1),\n",
       " Index(['yearID', 'lgID', 'teamID', 'franchID', 'divID', 'Rank', 'G', 'Ghome',\n",
       "        'W', 'L', 'DivWin', 'WCWin', 'LgWin', 'WSWin', 'R', 'AB', 'H', '2B',\n",
       "        '3B', 'HR', 'BB', 'SO', 'SB', 'CS', 'HBP', 'SF', 'RA', 'ER', 'ERA',\n",
       "        'CG', 'SHO', 'SV', 'IPouts', 'HA', 'HRA', 'BBA', 'SOA', 'E', 'DP', 'FP',\n",
       "        'name', 'park', 'attendance', 'BPF', 'PPF', 'teamIDBR',\n",
       "        'teamIDlahman45', 'teamIDretro'],\n",
       "       dtype='object')]"
      ]
     },
     "execution_count": 4,
     "metadata": {},
     "output_type": "execute_result"
    }
   ],
   "source": [
    "teams.axes"
   ]
  },
  {
   "cell_type": "code",
   "execution_count": 5,
   "metadata": {},
   "outputs": [
    {
     "data": {
      "text/plain": [
       "2925"
      ]
     },
     "execution_count": 5,
     "metadata": {},
     "output_type": "execute_result"
    }
   ],
   "source": [
    "len(teams)"
   ]
  },
  {
   "cell_type": "code",
   "execution_count": 6,
   "metadata": {},
   "outputs": [],
   "source": [
    "recent_years = teams['yearID']"
   ]
  },
  {
   "cell_type": "code",
   "execution_count": 7,
   "metadata": {},
   "outputs": [
    {
     "data": {
      "text/plain": [
       "0    1871\n",
       "1    1871\n",
       "2    1871\n",
       "3    1871\n",
       "4    1871\n",
       "Name: yearID, dtype: int64"
      ]
     },
     "execution_count": 7,
     "metadata": {},
     "output_type": "execute_result"
    }
   ],
   "source": [
    "recent_years.head()"
   ]
  },
  {
   "cell_type": "code",
   "execution_count": 8,
   "metadata": {},
   "outputs": [
    {
     "data": {
      "text/plain": [
       "2925"
      ]
     },
     "execution_count": 8,
     "metadata": {},
     "output_type": "execute_result"
    }
   ],
   "source": [
    "len(recent_years)"
   ]
  },
  {
   "cell_type": "code",
   "execution_count": 9,
   "metadata": {},
   "outputs": [
    {
     "data": {
      "text/plain": [
       "pandas.core.series.Series"
      ]
     },
     "execution_count": 9,
     "metadata": {},
     "output_type": "execute_result"
    }
   ],
   "source": [
    "type(recent_years)"
   ]
  },
  {
   "cell_type": "code",
   "execution_count": 10,
   "metadata": {},
   "outputs": [
    {
     "data": {
      "text/plain": [
       "2015"
      ]
     },
     "execution_count": 10,
     "metadata": {},
     "output_type": "execute_result"
    }
   ],
   "source": [
    "recent_years[2925-5*30]"
   ]
  },
  {
   "cell_type": "code",
   "execution_count": 11,
   "metadata": {},
   "outputs": [
    {
     "data": {
      "text/plain": [
       "2015"
      ]
     },
     "execution_count": 11,
     "metadata": {},
     "output_type": "execute_result"
    }
   ],
   "source": [
    "teams['yearID'][2775]"
   ]
  },
  {
   "cell_type": "code",
   "execution_count": 12,
   "metadata": {},
   "outputs": [
    {
     "data": {
      "text/html": [
       "<div>\n",
       "<style scoped>\n",
       "    .dataframe tbody tr th:only-of-type {\n",
       "        vertical-align: middle;\n",
       "    }\n",
       "\n",
       "    .dataframe tbody tr th {\n",
       "        vertical-align: top;\n",
       "    }\n",
       "\n",
       "    .dataframe thead th {\n",
       "        text-align: right;\n",
       "    }\n",
       "</style>\n",
       "<table border=\"1\" class=\"dataframe\">\n",
       "  <thead>\n",
       "    <tr style=\"text-align: right;\">\n",
       "      <th></th>\n",
       "      <th>yearID</th>\n",
       "      <th>lgID</th>\n",
       "      <th>teamID</th>\n",
       "      <th>franchID</th>\n",
       "      <th>divID</th>\n",
       "      <th>Rank</th>\n",
       "      <th>G</th>\n",
       "      <th>Ghome</th>\n",
       "      <th>W</th>\n",
       "      <th>L</th>\n",
       "      <th>...</th>\n",
       "      <th>DP</th>\n",
       "      <th>FP</th>\n",
       "      <th>name</th>\n",
       "      <th>park</th>\n",
       "      <th>attendance</th>\n",
       "      <th>BPF</th>\n",
       "      <th>PPF</th>\n",
       "      <th>teamIDBR</th>\n",
       "      <th>teamIDlahman45</th>\n",
       "      <th>teamIDretro</th>\n",
       "    </tr>\n",
       "  </thead>\n",
       "  <tbody>\n",
       "    <tr>\n",
       "      <th>2775</th>\n",
       "      <td>2015</td>\n",
       "      <td>NL</td>\n",
       "      <td>ARI</td>\n",
       "      <td>ARI</td>\n",
       "      <td>W</td>\n",
       "      <td>3</td>\n",
       "      <td>162</td>\n",
       "      <td>81.0</td>\n",
       "      <td>79</td>\n",
       "      <td>83</td>\n",
       "      <td>...</td>\n",
       "      <td>146</td>\n",
       "      <td>0.986</td>\n",
       "      <td>Arizona Diamondbacks</td>\n",
       "      <td>Chase Field</td>\n",
       "      <td>2080145.0</td>\n",
       "      <td>107</td>\n",
       "      <td>106</td>\n",
       "      <td>ARI</td>\n",
       "      <td>ARI</td>\n",
       "      <td>ARI</td>\n",
       "    </tr>\n",
       "    <tr>\n",
       "      <th>2776</th>\n",
       "      <td>2015</td>\n",
       "      <td>NL</td>\n",
       "      <td>ATL</td>\n",
       "      <td>ATL</td>\n",
       "      <td>E</td>\n",
       "      <td>4</td>\n",
       "      <td>162</td>\n",
       "      <td>81.0</td>\n",
       "      <td>67</td>\n",
       "      <td>95</td>\n",
       "      <td>...</td>\n",
       "      <td>186</td>\n",
       "      <td>0.985</td>\n",
       "      <td>Atlanta Braves</td>\n",
       "      <td>Turner Field</td>\n",
       "      <td>2001392.0</td>\n",
       "      <td>97</td>\n",
       "      <td>97</td>\n",
       "      <td>ATL</td>\n",
       "      <td>ATL</td>\n",
       "      <td>ATL</td>\n",
       "    </tr>\n",
       "    <tr>\n",
       "      <th>2777</th>\n",
       "      <td>2015</td>\n",
       "      <td>AL</td>\n",
       "      <td>BAL</td>\n",
       "      <td>BAL</td>\n",
       "      <td>E</td>\n",
       "      <td>3</td>\n",
       "      <td>162</td>\n",
       "      <td>78.0</td>\n",
       "      <td>81</td>\n",
       "      <td>81</td>\n",
       "      <td>...</td>\n",
       "      <td>134</td>\n",
       "      <td>0.987</td>\n",
       "      <td>Baltimore Orioles</td>\n",
       "      <td>Oriole Park at Camden Yards</td>\n",
       "      <td>2281202.0</td>\n",
       "      <td>103</td>\n",
       "      <td>104</td>\n",
       "      <td>BAL</td>\n",
       "      <td>BAL</td>\n",
       "      <td>BAL</td>\n",
       "    </tr>\n",
       "    <tr>\n",
       "      <th>2778</th>\n",
       "      <td>2015</td>\n",
       "      <td>AL</td>\n",
       "      <td>BOS</td>\n",
       "      <td>BOS</td>\n",
       "      <td>E</td>\n",
       "      <td>5</td>\n",
       "      <td>162</td>\n",
       "      <td>81.0</td>\n",
       "      <td>78</td>\n",
       "      <td>84</td>\n",
       "      <td>...</td>\n",
       "      <td>148</td>\n",
       "      <td>0.984</td>\n",
       "      <td>Boston Red Sox</td>\n",
       "      <td>Fenway Park II</td>\n",
       "      <td>2880694.0</td>\n",
       "      <td>104</td>\n",
       "      <td>107</td>\n",
       "      <td>BOS</td>\n",
       "      <td>BOS</td>\n",
       "      <td>BOS</td>\n",
       "    </tr>\n",
       "    <tr>\n",
       "      <th>2779</th>\n",
       "      <td>2015</td>\n",
       "      <td>AL</td>\n",
       "      <td>CHA</td>\n",
       "      <td>CHW</td>\n",
       "      <td>C</td>\n",
       "      <td>4</td>\n",
       "      <td>162</td>\n",
       "      <td>81.0</td>\n",
       "      <td>76</td>\n",
       "      <td>86</td>\n",
       "      <td>...</td>\n",
       "      <td>159</td>\n",
       "      <td>0.983</td>\n",
       "      <td>Chicago White Sox</td>\n",
       "      <td>U.S. Cellular Field</td>\n",
       "      <td>1755810.0</td>\n",
       "      <td>92</td>\n",
       "      <td>93</td>\n",
       "      <td>CHW</td>\n",
       "      <td>CHA</td>\n",
       "      <td>CHA</td>\n",
       "    </tr>\n",
       "  </tbody>\n",
       "</table>\n",
       "<p>5 rows × 48 columns</p>\n",
       "</div>"
      ],
      "text/plain": [
       "      yearID lgID teamID franchID divID  Rank    G  Ghome   W   L  ...   DP  \\\n",
       "2775    2015   NL    ARI      ARI     W     3  162   81.0  79  83  ...  146   \n",
       "2776    2015   NL    ATL      ATL     E     4  162   81.0  67  95  ...  186   \n",
       "2777    2015   AL    BAL      BAL     E     3  162   78.0  81  81  ...  134   \n",
       "2778    2015   AL    BOS      BOS     E     5  162   81.0  78  84  ...  148   \n",
       "2779    2015   AL    CHA      CHW     C     4  162   81.0  76  86  ...  159   \n",
       "\n",
       "         FP                  name                         park  attendance  \\\n",
       "2775  0.986  Arizona Diamondbacks                  Chase Field   2080145.0   \n",
       "2776  0.985        Atlanta Braves                 Turner Field   2001392.0   \n",
       "2777  0.987     Baltimore Orioles  Oriole Park at Camden Yards   2281202.0   \n",
       "2778  0.984        Boston Red Sox               Fenway Park II   2880694.0   \n",
       "2779  0.983     Chicago White Sox          U.S. Cellular Field   1755810.0   \n",
       "\n",
       "      BPF  PPF  teamIDBR  teamIDlahman45  teamIDretro  \n",
       "2775  107  106       ARI             ARI          ARI  \n",
       "2776   97   97       ATL             ATL          ATL  \n",
       "2777  103  104       BAL             BAL          BAL  \n",
       "2778  104  107       BOS             BOS          BOS  \n",
       "2779   92   93       CHW             CHA          CHA  \n",
       "\n",
       "[5 rows x 48 columns]"
      ]
     },
     "execution_count": 12,
     "metadata": {},
     "output_type": "execute_result"
    }
   ],
   "source": [
    "# there have been 30 teams past 5 years\n",
    "# update so it's only 2015-2019 seasons\n",
    "recent_years = 30 * 5\n",
    "\n",
    "recent_teams = teams.tail(recent_years)\n",
    "recent_teams.head()"
   ]
  },
  {
   "cell_type": "code",
   "execution_count": 13,
   "metadata": {},
   "outputs": [],
   "source": [
    "recent_teams = teams[teams['yearID'] >= 2015]"
   ]
  },
  {
   "cell_type": "code",
   "execution_count": 14,
   "metadata": {},
   "outputs": [
    {
     "data": {
      "text/plain": [
       "Index(['yearID', 'lgID', 'teamID', 'franchID', 'divID', 'Rank', 'G', 'Ghome',\n",
       "       'W', 'L', 'DivWin', 'WCWin', 'LgWin', 'WSWin', 'R', 'AB', 'H', '2B',\n",
       "       '3B', 'HR', 'BB', 'SO', 'SB', 'CS', 'HBP', 'SF', 'RA', 'ER', 'ERA',\n",
       "       'CG', 'SHO', 'SV', 'IPouts', 'HA', 'HRA', 'BBA', 'SOA', 'E', 'DP', 'FP',\n",
       "       'name', 'park', 'attendance', 'BPF', 'PPF', 'teamIDBR',\n",
       "       'teamIDlahman45', 'teamIDretro'],\n",
       "      dtype='object')"
      ]
     },
     "execution_count": 14,
     "metadata": {},
     "output_type": "execute_result"
    }
   ],
   "source": [
    "recent_teams.columns"
   ]
  },
  {
   "cell_type": "code",
   "execution_count": 43,
   "metadata": {},
   "outputs": [
    {
     "name": "stdout",
     "output_type": "stream",
     "text": [
      "[-18.54323674]\n",
      "159.3679571815101\n"
     ]
    },
    {
     "data": {
      "image/png": "[encoded data removed]",
      "text/plain": [
       "<Figure size 1080x432 with 1 Axes>"
      ]
     },
     "metadata": {
      "needs_background": "light"
     },
     "output_type": "display_data"
    }
   ],
   "source": [
    "#recent_teams.plot(kind='scatter', x='ERA', y='W', figsize=(10,7))\n",
    "#save_fig('ERAvW')\n",
    "\n",
    "fig, ax = plt.subplots(1,1)\n",
    "fig.set_size_inches(15,6)\n",
    "ax.plot(recent_teams.loc[:,'ERA'], recent_teams.loc[:,'W'], 'bo', alpha=1)\n",
    "ax.set_xlabel('Team ERA')\n",
    "ax.set_ylabel('Total Wins')\n",
    "ax.set_title('Total Wins vs. Team ERA')\n",
    "ax.grid()\n",
    "\n",
    "from sklearn.linear_model import LinearRegression\n",
    "\n",
    "reg = LinearRegression().fit(recent_teams.loc[:,'ERA'].to_numpy().reshape(-1,1), recent_teams.loc[:,'W'])\n",
    "\n",
    "print(reg.coef_)\n",
    "print(reg.intercept_)\n",
    "\n",
    "x = [x for x in np.arange(7)]\n",
    "y = [reg.coef_*i + reg.intercept_ for i in x]\n",
    "ax.plot(x,y, '--r', alpha=0.75, label='Line of Best Fit')\n",
    "ax.set_xlim(2.5,6)\n",
    "ax.set_ylim(40,120)\n",
    "ax.legend()\n",
    "\n",
    "path = '/mnt/c/Users/Michael/Documents/UCONN/courses/Senior Design/figures/'\n",
    "plt.savefig(path + 'wins_vs_era.png', format='png', dpi=300, bbox_inches='tight', pad_inches=0.25)"
   ]
  },
  {
   "cell_type": "code",
   "execution_count": 23,
   "metadata": {},
   "outputs": [
    {
     "data": {
      "text/plain": [
       "-0.7794892147497666"
      ]
     },
     "execution_count": 23,
     "metadata": {},
     "output_type": "execute_result"
    }
   ],
   "source": [
    "recent_teams['ERA'].corr(recent_teams['W'], method='pearson')"
   ]
  },
  {
   "cell_type": "code",
   "execution_count": 50,
   "metadata": {
    "scrolled": true
   },
   "outputs": [
    {
     "name": "stdout",
     "output_type": "stream",
     "text": [
      "[0.10757277]\n",
      "2.0364354496267367\n"
     ]
    },
    {
     "data": {
      "image/png": "[encoded data removed]",
      "text/plain": [
       "<Figure size 1080x432 with 1 Axes>"
      ]
     },
     "metadata": {
      "needs_background": "light"
     },
     "output_type": "display_data"
    }
   ],
   "source": [
    "fig,ax = plt.subplots(1,1)\n",
    "fig.set_size_inches(15,6)\n",
    "\n",
    "ax.plot(recent_teams.loc[:,'R'], recent_teams.loc[:,'W'], 'bo', alpha=1)\n",
    "ax.set_xlabel('Total Runs Scored')\n",
    "ax.set_ylabel('Total Wins')\n",
    "ax.set_title('Total Wins vs. Total Runs Scored')\n",
    "ax.grid()\n",
    "\n",
    "reg = LinearRegression().fit(recent_teams.loc[:,'R'].to_numpy().reshape(-1,1), recent_teams.loc[:,'W'])\n",
    "\n",
    "print(reg.coef_)\n",
    "print(reg.intercept_)\n",
    "\n",
    "x = [x for x in np.arange(1000)]\n",
    "y = [reg.coef_*i + reg.intercept_ for i in x]\n",
    "ax.plot(x,y, '--r', alpha=0.75, label='Line of Best Fit')\n",
    "ax.set_xlim(550,1000)\n",
    "ax.set_ylim(40,120)\n",
    "ax.legend()\n",
    "\n",
    "path = '/mnt/c/Users/Michael/Documents/UCONN/courses/Senior Design/figures/'\n",
    "plt.savefig(path + 'wins_vs_runs.png', format='png', dpi=300, bbox_inches='tight', pad_inches=0.25)"
   ]
  },
  {
   "cell_type": "code",
   "execution_count": 16,
   "metadata": {},
   "outputs": [
    {
     "data": {
      "text/plain": [
       "0.6507681803452142"
      ]
     },
     "execution_count": 16,
     "metadata": {},
     "output_type": "execute_result"
    }
   ],
   "source": [
    "recent_teams['R'].corr(recent_teams['W'], method='pearson')"
   ]
  },
  {
   "cell_type": "code",
   "execution_count": 17,
   "metadata": {},
   "outputs": [
    {
     "data": {
      "text/plain": [
       "<AxesSubplot:xlabel='attendance', ylabel='W'>"
      ]
     },
     "execution_count": 17,
     "metadata": {},
     "output_type": "execute_result"
    },
    {
     "data": {
      "image/png": "[encoded data removed]",
      "text/plain": [
       "<Figure size 720x504 with 1 Axes>"
      ]
     },
     "metadata": {
      "needs_background": "light"
     },
     "output_type": "display_data"
    }
   ],
   "source": [
    "recent_teams.plot(kind='scatter', x='attendance', y='W', figsize=(10,7))"
   ]
  },
  {
   "cell_type": "code",
   "execution_count": 51,
   "metadata": {},
   "outputs": [
    {
     "name": "stderr",
     "output_type": "stream",
     "text": [
      "<ipython-input-51-b5f64f7f737a>:1: SettingWithCopyWarning: \n",
      "A value is trying to be set on a copy of a slice from a DataFrame.\n",
      "Try using .loc[row_indexer,col_indexer] = value instead\n",
      "\n",
      "See the caveats in the documentation: https://pandas.pydata.org/pandas-docs/stable/user_guide/indexing.html#returning-a-view-versus-a-copy\n",
      "  recent_teams[\"R/ERA\"] = recent_teams['R'] / recent_teams['ERA']\n"
     ]
    }
   ],
   "source": [
    "recent_teams[\"R/ERA\"] = recent_teams['R'] / recent_teams['ERA']"
   ]
  },
  {
   "cell_type": "code",
   "execution_count": 52,
   "metadata": {},
   "outputs": [
    {
     "data": {
      "text/html": [
       "<div>\n",
       "<style scoped>\n",
       "    .dataframe tbody tr th:only-of-type {\n",
       "        vertical-align: middle;\n",
       "    }\n",
       "\n",
       "    .dataframe tbody tr th {\n",
       "        vertical-align: top;\n",
       "    }\n",
       "\n",
       "    .dataframe thead th {\n",
       "        text-align: right;\n",
       "    }\n",
       "</style>\n",
       "<table border=\"1\" class=\"dataframe\">\n",
       "  <thead>\n",
       "    <tr style=\"text-align: right;\">\n",
       "      <th></th>\n",
       "      <th>yearID</th>\n",
       "      <th>lgID</th>\n",
       "      <th>teamID</th>\n",
       "      <th>franchID</th>\n",
       "      <th>divID</th>\n",
       "      <th>Rank</th>\n",
       "      <th>G</th>\n",
       "      <th>Ghome</th>\n",
       "      <th>W</th>\n",
       "      <th>L</th>\n",
       "      <th>...</th>\n",
       "      <th>FP</th>\n",
       "      <th>name</th>\n",
       "      <th>park</th>\n",
       "      <th>attendance</th>\n",
       "      <th>BPF</th>\n",
       "      <th>PPF</th>\n",
       "      <th>teamIDBR</th>\n",
       "      <th>teamIDlahman45</th>\n",
       "      <th>teamIDretro</th>\n",
       "      <th>R/ERA</th>\n",
       "    </tr>\n",
       "  </thead>\n",
       "  <tbody>\n",
       "    <tr>\n",
       "      <th>2775</th>\n",
       "      <td>2015</td>\n",
       "      <td>NL</td>\n",
       "      <td>ARI</td>\n",
       "      <td>ARI</td>\n",
       "      <td>W</td>\n",
       "      <td>3</td>\n",
       "      <td>162</td>\n",
       "      <td>81.0</td>\n",
       "      <td>79</td>\n",
       "      <td>83</td>\n",
       "      <td>...</td>\n",
       "      <td>0.986</td>\n",
       "      <td>Arizona Diamondbacks</td>\n",
       "      <td>Chase Field</td>\n",
       "      <td>2080145.0</td>\n",
       "      <td>107</td>\n",
       "      <td>106</td>\n",
       "      <td>ARI</td>\n",
       "      <td>ARI</td>\n",
       "      <td>ARI</td>\n",
       "      <td>178.217822</td>\n",
       "    </tr>\n",
       "    <tr>\n",
       "      <th>2776</th>\n",
       "      <td>2015</td>\n",
       "      <td>NL</td>\n",
       "      <td>ATL</td>\n",
       "      <td>ATL</td>\n",
       "      <td>E</td>\n",
       "      <td>4</td>\n",
       "      <td>162</td>\n",
       "      <td>81.0</td>\n",
       "      <td>67</td>\n",
       "      <td>95</td>\n",
       "      <td>...</td>\n",
       "      <td>0.985</td>\n",
       "      <td>Atlanta Braves</td>\n",
       "      <td>Turner Field</td>\n",
       "      <td>2001392.0</td>\n",
       "      <td>97</td>\n",
       "      <td>97</td>\n",
       "      <td>ATL</td>\n",
       "      <td>ATL</td>\n",
       "      <td>ATL</td>\n",
       "      <td>129.931973</td>\n",
       "    </tr>\n",
       "    <tr>\n",
       "      <th>2777</th>\n",
       "      <td>2015</td>\n",
       "      <td>AL</td>\n",
       "      <td>BAL</td>\n",
       "      <td>BAL</td>\n",
       "      <td>E</td>\n",
       "      <td>3</td>\n",
       "      <td>162</td>\n",
       "      <td>78.0</td>\n",
       "      <td>81</td>\n",
       "      <td>81</td>\n",
       "      <td>...</td>\n",
       "      <td>0.987</td>\n",
       "      <td>Baltimore Orioles</td>\n",
       "      <td>Oriole Park at Camden Yards</td>\n",
       "      <td>2281202.0</td>\n",
       "      <td>103</td>\n",
       "      <td>104</td>\n",
       "      <td>BAL</td>\n",
       "      <td>BAL</td>\n",
       "      <td>BAL</td>\n",
       "      <td>176.049383</td>\n",
       "    </tr>\n",
       "    <tr>\n",
       "      <th>2778</th>\n",
       "      <td>2015</td>\n",
       "      <td>AL</td>\n",
       "      <td>BOS</td>\n",
       "      <td>BOS</td>\n",
       "      <td>E</td>\n",
       "      <td>5</td>\n",
       "      <td>162</td>\n",
       "      <td>81.0</td>\n",
       "      <td>78</td>\n",
       "      <td>84</td>\n",
       "      <td>...</td>\n",
       "      <td>0.984</td>\n",
       "      <td>Boston Red Sox</td>\n",
       "      <td>Fenway Park II</td>\n",
       "      <td>2880694.0</td>\n",
       "      <td>104</td>\n",
       "      <td>107</td>\n",
       "      <td>BOS</td>\n",
       "      <td>BOS</td>\n",
       "      <td>BOS</td>\n",
       "      <td>173.549884</td>\n",
       "    </tr>\n",
       "    <tr>\n",
       "      <th>2779</th>\n",
       "      <td>2015</td>\n",
       "      <td>AL</td>\n",
       "      <td>CHA</td>\n",
       "      <td>CHW</td>\n",
       "      <td>C</td>\n",
       "      <td>4</td>\n",
       "      <td>162</td>\n",
       "      <td>81.0</td>\n",
       "      <td>76</td>\n",
       "      <td>86</td>\n",
       "      <td>...</td>\n",
       "      <td>0.983</td>\n",
       "      <td>Chicago White Sox</td>\n",
       "      <td>U.S. Cellular Field</td>\n",
       "      <td>1755810.0</td>\n",
       "      <td>92</td>\n",
       "      <td>93</td>\n",
       "      <td>CHW</td>\n",
       "      <td>CHA</td>\n",
       "      <td>CHA</td>\n",
       "      <td>156.281407</td>\n",
       "    </tr>\n",
       "  </tbody>\n",
       "</table>\n",
       "<p>5 rows × 49 columns</p>\n",
       "</div>"
      ],
      "text/plain": [
       "      yearID lgID teamID franchID divID  Rank    G  Ghome   W   L  ...     FP  \\\n",
       "2775    2015   NL    ARI      ARI     W     3  162   81.0  79  83  ...  0.986   \n",
       "2776    2015   NL    ATL      ATL     E     4  162   81.0  67  95  ...  0.985   \n",
       "2777    2015   AL    BAL      BAL     E     3  162   78.0  81  81  ...  0.987   \n",
       "2778    2015   AL    BOS      BOS     E     5  162   81.0  78  84  ...  0.984   \n",
       "2779    2015   AL    CHA      CHW     C     4  162   81.0  76  86  ...  0.983   \n",
       "\n",
       "                      name                         park attendance  BPF  PPF  \\\n",
       "2775  Arizona Diamondbacks                  Chase Field  2080145.0  107  106   \n",
       "2776        Atlanta Braves                 Turner Field  2001392.0   97   97   \n",
       "2777     Baltimore Orioles  Oriole Park at Camden Yards  2281202.0  103  104   \n",
       "2778        Boston Red Sox               Fenway Park II  2880694.0  104  107   \n",
       "2779     Chicago White Sox          U.S. Cellular Field  1755810.0   92   93   \n",
       "\n",
       "      teamIDBR  teamIDlahman45  teamIDretro       R/ERA  \n",
       "2775       ARI             ARI          ARI  178.217822  \n",
       "2776       ATL             ATL          ATL  129.931973  \n",
       "2777       BAL             BAL          BAL  176.049383  \n",
       "2778       BOS             BOS          BOS  173.549884  \n",
       "2779       CHW             CHA          CHA  156.281407  \n",
       "\n",
       "[5 rows x 49 columns]"
      ]
     },
     "execution_count": 52,
     "metadata": {},
     "output_type": "execute_result"
    }
   ],
   "source": [
    "recent_teams.head()"
   ]
  },
  {
   "cell_type": "code",
   "execution_count": 64,
   "metadata": {
    "scrolled": true
   },
   "outputs": [
    {
     "name": "stdout",
     "output_type": "stream",
     "text": [
      "[0.3725969]\n",
      "15.118329137411493\n"
     ]
    },
    {
     "data": {
      "image/png": "[encoded data removed]",
      "text/plain": [
       "<Figure size 1080x432 with 1 Axes>"
      ]
     },
     "metadata": {
      "needs_background": "light"
     },
     "output_type": "display_data"
    }
   ],
   "source": [
    "fig,ax = plt.subplots(1,1)\n",
    "fig.set_size_inches(15,6)\n",
    "\n",
    "ax.plot(recent_teams.loc[:,'R/ERA'], recent_teams.loc[:,'W'], 'bo', alpha=1)\n",
    "ax.set_xlabel('Total Runs Scored/Team ERA')\n",
    "ax.set_ylabel('Total Wins')\n",
    "ax.set_title('Total Wins vs. Total Runs Scored/Team ERA')\n",
    "ax.grid()\n",
    "\n",
    "reg = LinearRegression().fit(recent_teams.loc[:,'R/ERA'].to_numpy().reshape(-1,1), recent_teams.loc[:,'W'])\n",
    "\n",
    "print(reg.coef_)\n",
    "print(reg.intercept_)\n",
    "\n",
    "x = [x for x in np.arange(1000)]\n",
    "y = [reg.coef_*i + reg.intercept_ for i in x]\n",
    "ax.plot(x,y, '--r', alpha=0.75, label='Line of Best Fit')\n",
    "ax.set_xlim(100,270)\n",
    "ax.set_ylim(40,120)\n",
    "ax.legend()\n",
    "\n",
    "path = '/mnt/c/Users/Michael/Documents/UCONN/courses/Senior Design/figures/'\n",
    "plt.savefig(path + 'wins_vs_ratio.png', format='png', dpi=300, bbox_inches='tight', pad_inches=0.25)"
   ]
  },
  {
   "cell_type": "code",
   "execution_count": 54,
   "metadata": {},
   "outputs": [
    {
     "data": {
      "text/plain": [
       "0.9284423434515336"
      ]
     },
     "execution_count": 54,
     "metadata": {},
     "output_type": "execute_result"
    }
   ],
   "source": [
    "recent_teams['R/ERA'].corr(recent_teams['W'], method='pearson')"
   ]
  },
  {
   "cell_type": "code",
   "execution_count": 24,
   "metadata": {},
   "outputs": [
    {
     "name": "stderr",
     "output_type": "stream",
     "text": [
      "<ipython-input-24-25b50c1b6c9d>:1: SettingWithCopyWarning: \n",
      "A value is trying to be set on a copy of a slice from a DataFrame.\n",
      "Try using .loc[row_indexer,col_indexer] = value instead\n",
      "\n",
      "See the caveats in the documentation: https://pandas.pydata.org/pandas-docs/stable/user_guide/indexing.html#returning-a-view-versus-a-copy\n",
      "  recent_teams['scored_per_allowed'] = recent_teams['R'] / recent_teams['RA']\n"
     ]
    }
   ],
   "source": [
    "recent_teams['scored_per_allowed'] = recent_teams['R'] / recent_teams['RA']"
   ]
  },
  {
   "cell_type": "code",
   "execution_count": 25,
   "metadata": {},
   "outputs": [
    {
     "data": {
      "text/plain": [
       "<AxesSubplot:xlabel='scored_per_allowed', ylabel='W'>"
      ]
     },
     "execution_count": 25,
     "metadata": {},
     "output_type": "execute_result"
    },
    {
     "data": {
      "image/png": "[encoded data removed]",
      "text/plain": [
       "<Figure size 720x504 with 1 Axes>"
      ]
     },
     "metadata": {
      "needs_background": "light"
     },
     "output_type": "display_data"
    }
   ],
   "source": [
    "recent_teams.plot(kind='scatter', x='scored_per_allowed', y='W', figsize=(10,7))"
   ]
  },
  {
   "cell_type": "code",
   "execution_count": 26,
   "metadata": {},
   "outputs": [
    {
     "data": {
      "text/plain": [
       "0.930501570788262"
      ]
     },
     "execution_count": 26,
     "metadata": {},
     "output_type": "execute_result"
    }
   ],
   "source": [
    "recent_teams['scored_per_allowed'].corr(recent_teams['W'], method='pearson')"
   ]
  },
  {
   "cell_type": "code",
   "execution_count": 27,
   "metadata": {},
   "outputs": [
    {
     "data": {
      "text/html": [
       "<div>\n",
       "<style scoped>\n",
       "    .dataframe tbody tr th:only-of-type {\n",
       "        vertical-align: middle;\n",
       "    }\n",
       "\n",
       "    .dataframe tbody tr th {\n",
       "        vertical-align: top;\n",
       "    }\n",
       "\n",
       "    .dataframe thead th {\n",
       "        text-align: right;\n",
       "    }\n",
       "</style>\n",
       "<table border=\"1\" class=\"dataframe\">\n",
       "  <thead>\n",
       "    <tr style=\"text-align: right;\">\n",
       "      <th></th>\n",
       "      <th>yearID</th>\n",
       "      <th>lgID</th>\n",
       "      <th>teamID</th>\n",
       "      <th>franchID</th>\n",
       "      <th>divID</th>\n",
       "      <th>Rank</th>\n",
       "      <th>G</th>\n",
       "      <th>Ghome</th>\n",
       "      <th>W</th>\n",
       "      <th>L</th>\n",
       "      <th>...</th>\n",
       "      <th>name</th>\n",
       "      <th>park</th>\n",
       "      <th>attendance</th>\n",
       "      <th>BPF</th>\n",
       "      <th>PPF</th>\n",
       "      <th>teamIDBR</th>\n",
       "      <th>teamIDlahman45</th>\n",
       "      <th>teamIDretro</th>\n",
       "      <th>ratio</th>\n",
       "      <th>scored_per_allowed</th>\n",
       "    </tr>\n",
       "  </thead>\n",
       "  <tbody>\n",
       "    <tr>\n",
       "      <th>2775</th>\n",
       "      <td>2015</td>\n",
       "      <td>NL</td>\n",
       "      <td>ARI</td>\n",
       "      <td>ARI</td>\n",
       "      <td>W</td>\n",
       "      <td>3</td>\n",
       "      <td>162</td>\n",
       "      <td>81.0</td>\n",
       "      <td>79</td>\n",
       "      <td>83</td>\n",
       "      <td>...</td>\n",
       "      <td>Arizona Diamondbacks</td>\n",
       "      <td>Chase Field</td>\n",
       "      <td>2080145.0</td>\n",
       "      <td>107</td>\n",
       "      <td>106</td>\n",
       "      <td>ARI</td>\n",
       "      <td>ARI</td>\n",
       "      <td>ARI</td>\n",
       "      <td>178.217822</td>\n",
       "      <td>1.009818</td>\n",
       "    </tr>\n",
       "    <tr>\n",
       "      <th>2776</th>\n",
       "      <td>2015</td>\n",
       "      <td>NL</td>\n",
       "      <td>ATL</td>\n",
       "      <td>ATL</td>\n",
       "      <td>E</td>\n",
       "      <td>4</td>\n",
       "      <td>162</td>\n",
       "      <td>81.0</td>\n",
       "      <td>67</td>\n",
       "      <td>95</td>\n",
       "      <td>...</td>\n",
       "      <td>Atlanta Braves</td>\n",
       "      <td>Turner Field</td>\n",
       "      <td>2001392.0</td>\n",
       "      <td>97</td>\n",
       "      <td>97</td>\n",
       "      <td>ATL</td>\n",
       "      <td>ATL</td>\n",
       "      <td>ATL</td>\n",
       "      <td>129.931973</td>\n",
       "      <td>0.753947</td>\n",
       "    </tr>\n",
       "    <tr>\n",
       "      <th>2777</th>\n",
       "      <td>2015</td>\n",
       "      <td>AL</td>\n",
       "      <td>BAL</td>\n",
       "      <td>BAL</td>\n",
       "      <td>E</td>\n",
       "      <td>3</td>\n",
       "      <td>162</td>\n",
       "      <td>78.0</td>\n",
       "      <td>81</td>\n",
       "      <td>81</td>\n",
       "      <td>...</td>\n",
       "      <td>Baltimore Orioles</td>\n",
       "      <td>Oriole Park at Camden Yards</td>\n",
       "      <td>2281202.0</td>\n",
       "      <td>103</td>\n",
       "      <td>104</td>\n",
       "      <td>BAL</td>\n",
       "      <td>BAL</td>\n",
       "      <td>BAL</td>\n",
       "      <td>176.049383</td>\n",
       "      <td>1.028860</td>\n",
       "    </tr>\n",
       "    <tr>\n",
       "      <th>2778</th>\n",
       "      <td>2015</td>\n",
       "      <td>AL</td>\n",
       "      <td>BOS</td>\n",
       "      <td>BOS</td>\n",
       "      <td>E</td>\n",
       "      <td>5</td>\n",
       "      <td>162</td>\n",
       "      <td>81.0</td>\n",
       "      <td>78</td>\n",
       "      <td>84</td>\n",
       "      <td>...</td>\n",
       "      <td>Boston Red Sox</td>\n",
       "      <td>Fenway Park II</td>\n",
       "      <td>2880694.0</td>\n",
       "      <td>104</td>\n",
       "      <td>107</td>\n",
       "      <td>BOS</td>\n",
       "      <td>BOS</td>\n",
       "      <td>BOS</td>\n",
       "      <td>173.549884</td>\n",
       "      <td>0.993360</td>\n",
       "    </tr>\n",
       "    <tr>\n",
       "      <th>2779</th>\n",
       "      <td>2015</td>\n",
       "      <td>AL</td>\n",
       "      <td>CHA</td>\n",
       "      <td>CHW</td>\n",
       "      <td>C</td>\n",
       "      <td>4</td>\n",
       "      <td>162</td>\n",
       "      <td>81.0</td>\n",
       "      <td>76</td>\n",
       "      <td>86</td>\n",
       "      <td>...</td>\n",
       "      <td>Chicago White Sox</td>\n",
       "      <td>U.S. Cellular Field</td>\n",
       "      <td>1755810.0</td>\n",
       "      <td>92</td>\n",
       "      <td>93</td>\n",
       "      <td>CHW</td>\n",
       "      <td>CHA</td>\n",
       "      <td>CHA</td>\n",
       "      <td>156.281407</td>\n",
       "      <td>0.887304</td>\n",
       "    </tr>\n",
       "  </tbody>\n",
       "</table>\n",
       "<p>5 rows × 50 columns</p>\n",
       "</div>"
      ],
      "text/plain": [
       "      yearID lgID teamID franchID divID  Rank    G  Ghome   W   L  ...  \\\n",
       "2775    2015   NL    ARI      ARI     W     3  162   81.0  79  83  ...   \n",
       "2776    2015   NL    ATL      ATL     E     4  162   81.0  67  95  ...   \n",
       "2777    2015   AL    BAL      BAL     E     3  162   78.0  81  81  ...   \n",
       "2778    2015   AL    BOS      BOS     E     5  162   81.0  78  84  ...   \n",
       "2779    2015   AL    CHA      CHW     C     4  162   81.0  76  86  ...   \n",
       "\n",
       "                      name                         park attendance  BPF  PPF  \\\n",
       "2775  Arizona Diamondbacks                  Chase Field  2080145.0  107  106   \n",
       "2776        Atlanta Braves                 Turner Field  2001392.0   97   97   \n",
       "2777     Baltimore Orioles  Oriole Park at Camden Yards  2281202.0  103  104   \n",
       "2778        Boston Red Sox               Fenway Park II  2880694.0  104  107   \n",
       "2779     Chicago White Sox          U.S. Cellular Field  1755810.0   92   93   \n",
       "\n",
       "      teamIDBR  teamIDlahman45  teamIDretro       ratio  scored_per_allowed  \n",
       "2775       ARI             ARI          ARI  178.217822            1.009818  \n",
       "2776       ATL             ATL          ATL  129.931973            0.753947  \n",
       "2777       BAL             BAL          BAL  176.049383            1.028860  \n",
       "2778       BOS             BOS          BOS  173.549884            0.993360  \n",
       "2779       CHW             CHA          CHA  156.281407            0.887304  \n",
       "\n",
       "[5 rows x 50 columns]"
      ]
     },
     "execution_count": 27,
     "metadata": {},
     "output_type": "execute_result"
    }
   ],
   "source": [
    "recent_teams.head()"
   ]
  },
  {
   "cell_type": "code",
   "execution_count": 28,
   "metadata": {},
   "outputs": [
    {
     "data": {
      "text/html": [
       "<div>\n",
       "<style scoped>\n",
       "    .dataframe tbody tr th:only-of-type {\n",
       "        vertical-align: middle;\n",
       "    }\n",
       "\n",
       "    .dataframe tbody tr th {\n",
       "        vertical-align: top;\n",
       "    }\n",
       "\n",
       "    .dataframe thead th {\n",
       "        text-align: right;\n",
       "    }\n",
       "</style>\n",
       "<table border=\"1\" class=\"dataframe\">\n",
       "  <thead>\n",
       "    <tr style=\"text-align: right;\">\n",
       "      <th></th>\n",
       "      <th>index</th>\n",
       "      <th>yearID</th>\n",
       "      <th>lgID</th>\n",
       "      <th>teamID</th>\n",
       "      <th>franchID</th>\n",
       "      <th>divID</th>\n",
       "      <th>Rank</th>\n",
       "      <th>G</th>\n",
       "      <th>Ghome</th>\n",
       "      <th>W</th>\n",
       "      <th>...</th>\n",
       "      <th>name</th>\n",
       "      <th>park</th>\n",
       "      <th>attendance</th>\n",
       "      <th>BPF</th>\n",
       "      <th>PPF</th>\n",
       "      <th>teamIDBR</th>\n",
       "      <th>teamIDlahman45</th>\n",
       "      <th>teamIDretro</th>\n",
       "      <th>ratio</th>\n",
       "      <th>scored_per_allowed</th>\n",
       "    </tr>\n",
       "  </thead>\n",
       "  <tbody>\n",
       "    <tr>\n",
       "      <th>0</th>\n",
       "      <td>2775</td>\n",
       "      <td>2015</td>\n",
       "      <td>NL</td>\n",
       "      <td>ARI</td>\n",
       "      <td>ARI</td>\n",
       "      <td>W</td>\n",
       "      <td>3</td>\n",
       "      <td>162</td>\n",
       "      <td>81.0</td>\n",
       "      <td>79</td>\n",
       "      <td>...</td>\n",
       "      <td>Arizona Diamondbacks</td>\n",
       "      <td>Chase Field</td>\n",
       "      <td>2080145.0</td>\n",
       "      <td>107</td>\n",
       "      <td>106</td>\n",
       "      <td>ARI</td>\n",
       "      <td>ARI</td>\n",
       "      <td>ARI</td>\n",
       "      <td>178.217822</td>\n",
       "      <td>1.009818</td>\n",
       "    </tr>\n",
       "    <tr>\n",
       "      <th>1</th>\n",
       "      <td>2776</td>\n",
       "      <td>2015</td>\n",
       "      <td>NL</td>\n",
       "      <td>ATL</td>\n",
       "      <td>ATL</td>\n",
       "      <td>E</td>\n",
       "      <td>4</td>\n",
       "      <td>162</td>\n",
       "      <td>81.0</td>\n",
       "      <td>67</td>\n",
       "      <td>...</td>\n",
       "      <td>Atlanta Braves</td>\n",
       "      <td>Turner Field</td>\n",
       "      <td>2001392.0</td>\n",
       "      <td>97</td>\n",
       "      <td>97</td>\n",
       "      <td>ATL</td>\n",
       "      <td>ATL</td>\n",
       "      <td>ATL</td>\n",
       "      <td>129.931973</td>\n",
       "      <td>0.753947</td>\n",
       "    </tr>\n",
       "    <tr>\n",
       "      <th>2</th>\n",
       "      <td>2777</td>\n",
       "      <td>2015</td>\n",
       "      <td>AL</td>\n",
       "      <td>BAL</td>\n",
       "      <td>BAL</td>\n",
       "      <td>E</td>\n",
       "      <td>3</td>\n",
       "      <td>162</td>\n",
       "      <td>78.0</td>\n",
       "      <td>81</td>\n",
       "      <td>...</td>\n",
       "      <td>Baltimore Orioles</td>\n",
       "      <td>Oriole Park at Camden Yards</td>\n",
       "      <td>2281202.0</td>\n",
       "      <td>103</td>\n",
       "      <td>104</td>\n",
       "      <td>BAL</td>\n",
       "      <td>BAL</td>\n",
       "      <td>BAL</td>\n",
       "      <td>176.049383</td>\n",
       "      <td>1.028860</td>\n",
       "    </tr>\n",
       "    <tr>\n",
       "      <th>3</th>\n",
       "      <td>2778</td>\n",
       "      <td>2015</td>\n",
       "      <td>AL</td>\n",
       "      <td>BOS</td>\n",
       "      <td>BOS</td>\n",
       "      <td>E</td>\n",
       "      <td>5</td>\n",
       "      <td>162</td>\n",
       "      <td>81.0</td>\n",
       "      <td>78</td>\n",
       "      <td>...</td>\n",
       "      <td>Boston Red Sox</td>\n",
       "      <td>Fenway Park II</td>\n",
       "      <td>2880694.0</td>\n",
       "      <td>104</td>\n",
       "      <td>107</td>\n",
       "      <td>BOS</td>\n",
       "      <td>BOS</td>\n",
       "      <td>BOS</td>\n",
       "      <td>173.549884</td>\n",
       "      <td>0.993360</td>\n",
       "    </tr>\n",
       "    <tr>\n",
       "      <th>4</th>\n",
       "      <td>2779</td>\n",
       "      <td>2015</td>\n",
       "      <td>AL</td>\n",
       "      <td>CHA</td>\n",
       "      <td>CHW</td>\n",
       "      <td>C</td>\n",
       "      <td>4</td>\n",
       "      <td>162</td>\n",
       "      <td>81.0</td>\n",
       "      <td>76</td>\n",
       "      <td>...</td>\n",
       "      <td>Chicago White Sox</td>\n",
       "      <td>U.S. Cellular Field</td>\n",
       "      <td>1755810.0</td>\n",
       "      <td>92</td>\n",
       "      <td>93</td>\n",
       "      <td>CHW</td>\n",
       "      <td>CHA</td>\n",
       "      <td>CHA</td>\n",
       "      <td>156.281407</td>\n",
       "      <td>0.887304</td>\n",
       "    </tr>\n",
       "    <tr>\n",
       "      <th>...</th>\n",
       "      <td>...</td>\n",
       "      <td>...</td>\n",
       "      <td>...</td>\n",
       "      <td>...</td>\n",
       "      <td>...</td>\n",
       "      <td>...</td>\n",
       "      <td>...</td>\n",
       "      <td>...</td>\n",
       "      <td>...</td>\n",
       "      <td>...</td>\n",
       "      <td>...</td>\n",
       "      <td>...</td>\n",
       "      <td>...</td>\n",
       "      <td>...</td>\n",
       "      <td>...</td>\n",
       "      <td>...</td>\n",
       "      <td>...</td>\n",
       "      <td>...</td>\n",
       "      <td>...</td>\n",
       "      <td>...</td>\n",
       "      <td>...</td>\n",
       "    </tr>\n",
       "    <tr>\n",
       "      <th>145</th>\n",
       "      <td>2920</td>\n",
       "      <td>2019</td>\n",
       "      <td>NL</td>\n",
       "      <td>SLN</td>\n",
       "      <td>STL</td>\n",
       "      <td>C</td>\n",
       "      <td>1</td>\n",
       "      <td>162</td>\n",
       "      <td>81.0</td>\n",
       "      <td>91</td>\n",
       "      <td>...</td>\n",
       "      <td>St. Louis Cardinals</td>\n",
       "      <td>Busch Stadium III</td>\n",
       "      <td>3480393.0</td>\n",
       "      <td>98</td>\n",
       "      <td>97</td>\n",
       "      <td>STL</td>\n",
       "      <td>SLN</td>\n",
       "      <td>SLN</td>\n",
       "      <td>201.052632</td>\n",
       "      <td>1.154079</td>\n",
       "    </tr>\n",
       "    <tr>\n",
       "      <th>146</th>\n",
       "      <td>2921</td>\n",
       "      <td>2019</td>\n",
       "      <td>AL</td>\n",
       "      <td>TBA</td>\n",
       "      <td>TBD</td>\n",
       "      <td>E</td>\n",
       "      <td>2</td>\n",
       "      <td>162</td>\n",
       "      <td>81.0</td>\n",
       "      <td>96</td>\n",
       "      <td>...</td>\n",
       "      <td>Tampa Bay Rays</td>\n",
       "      <td>Tropicana Field</td>\n",
       "      <td>1178735.0</td>\n",
       "      <td>97</td>\n",
       "      <td>96</td>\n",
       "      <td>TBR</td>\n",
       "      <td>TBA</td>\n",
       "      <td>TBA</td>\n",
       "      <td>210.684932</td>\n",
       "      <td>1.172256</td>\n",
       "    </tr>\n",
       "    <tr>\n",
       "      <th>147</th>\n",
       "      <td>2922</td>\n",
       "      <td>2019</td>\n",
       "      <td>AL</td>\n",
       "      <td>TEX</td>\n",
       "      <td>TEX</td>\n",
       "      <td>W</td>\n",
       "      <td>3</td>\n",
       "      <td>162</td>\n",
       "      <td>81.0</td>\n",
       "      <td>78</td>\n",
       "      <td>...</td>\n",
       "      <td>Texas Rangers</td>\n",
       "      <td>Globe Life Park in Arlington</td>\n",
       "      <td>2132994.0</td>\n",
       "      <td>111</td>\n",
       "      <td>112</td>\n",
       "      <td>TEX</td>\n",
       "      <td>TEX</td>\n",
       "      <td>TEX</td>\n",
       "      <td>160.079051</td>\n",
       "      <td>0.922551</td>\n",
       "    </tr>\n",
       "    <tr>\n",
       "      <th>148</th>\n",
       "      <td>2923</td>\n",
       "      <td>2019</td>\n",
       "      <td>AL</td>\n",
       "      <td>TOR</td>\n",
       "      <td>TOR</td>\n",
       "      <td>E</td>\n",
       "      <td>4</td>\n",
       "      <td>162</td>\n",
       "      <td>81.0</td>\n",
       "      <td>67</td>\n",
       "      <td>...</td>\n",
       "      <td>Toronto Blue Jays</td>\n",
       "      <td>Rogers Centre</td>\n",
       "      <td>1750114.0</td>\n",
       "      <td>97</td>\n",
       "      <td>98</td>\n",
       "      <td>TOR</td>\n",
       "      <td>TOR</td>\n",
       "      <td>TOR</td>\n",
       "      <td>151.565762</td>\n",
       "      <td>0.876812</td>\n",
       "    </tr>\n",
       "    <tr>\n",
       "      <th>149</th>\n",
       "      <td>2924</td>\n",
       "      <td>2019</td>\n",
       "      <td>NL</td>\n",
       "      <td>WAS</td>\n",
       "      <td>WSN</td>\n",
       "      <td>E</td>\n",
       "      <td>2</td>\n",
       "      <td>162</td>\n",
       "      <td>81.0</td>\n",
       "      <td>93</td>\n",
       "      <td>...</td>\n",
       "      <td>Washington Nationals</td>\n",
       "      <td>Nationals Park</td>\n",
       "      <td>2259781.0</td>\n",
       "      <td>106</td>\n",
       "      <td>104</td>\n",
       "      <td>WSN</td>\n",
       "      <td>MON</td>\n",
       "      <td>WAS</td>\n",
       "      <td>204.449649</td>\n",
       "      <td>1.205801</td>\n",
       "    </tr>\n",
       "  </tbody>\n",
       "</table>\n",
       "<p>150 rows × 51 columns</p>\n",
       "</div>"
      ],
      "text/plain": [
       "     index  yearID lgID teamID franchID divID  Rank    G  Ghome   W  ...  \\\n",
       "0     2775    2015   NL    ARI      ARI     W     3  162   81.0  79  ...   \n",
       "1     2776    2015   NL    ATL      ATL     E     4  162   81.0  67  ...   \n",
       "2     2777    2015   AL    BAL      BAL     E     3  162   78.0  81  ...   \n",
       "3     2778    2015   AL    BOS      BOS     E     5  162   81.0  78  ...   \n",
       "4     2779    2015   AL    CHA      CHW     C     4  162   81.0  76  ...   \n",
       "..     ...     ...  ...    ...      ...   ...   ...  ...    ...  ..  ...   \n",
       "145   2920    2019   NL    SLN      STL     C     1  162   81.0  91  ...   \n",
       "146   2921    2019   AL    TBA      TBD     E     2  162   81.0  96  ...   \n",
       "147   2922    2019   AL    TEX      TEX     W     3  162   81.0  78  ...   \n",
       "148   2923    2019   AL    TOR      TOR     E     4  162   81.0  67  ...   \n",
       "149   2924    2019   NL    WAS      WSN     E     2  162   81.0  93  ...   \n",
       "\n",
       "                     name                          park attendance  BPF  PPF  \\\n",
       "0    Arizona Diamondbacks                   Chase Field  2080145.0  107  106   \n",
       "1          Atlanta Braves                  Turner Field  2001392.0   97   97   \n",
       "2       Baltimore Orioles   Oriole Park at Camden Yards  2281202.0  103  104   \n",
       "3          Boston Red Sox                Fenway Park II  2880694.0  104  107   \n",
       "4       Chicago White Sox           U.S. Cellular Field  1755810.0   92   93   \n",
       "..                    ...                           ...        ...  ...  ...   \n",
       "145   St. Louis Cardinals             Busch Stadium III  3480393.0   98   97   \n",
       "146        Tampa Bay Rays               Tropicana Field  1178735.0   97   96   \n",
       "147         Texas Rangers  Globe Life Park in Arlington  2132994.0  111  112   \n",
       "148     Toronto Blue Jays                 Rogers Centre  1750114.0   97   98   \n",
       "149  Washington Nationals                Nationals Park  2259781.0  106  104   \n",
       "\n",
       "     teamIDBR  teamIDlahman45  teamIDretro       ratio  scored_per_allowed  \n",
       "0         ARI             ARI          ARI  178.217822            1.009818  \n",
       "1         ATL             ATL          ATL  129.931973            0.753947  \n",
       "2         BAL             BAL          BAL  176.049383            1.028860  \n",
       "3         BOS             BOS          BOS  173.549884            0.993360  \n",
       "4         CHW             CHA          CHA  156.281407            0.887304  \n",
       "..        ...             ...          ...         ...                 ...  \n",
       "145       STL             SLN          SLN  201.052632            1.154079  \n",
       "146       TBR             TBA          TBA  210.684932            1.172256  \n",
       "147       TEX             TEX          TEX  160.079051            0.922551  \n",
       "148       TOR             TOR          TOR  151.565762            0.876812  \n",
       "149       WSN             MON          WAS  204.449649            1.205801  \n",
       "\n",
       "[150 rows x 51 columns]"
      ]
     },
     "execution_count": 28,
     "metadata": {},
     "output_type": "execute_result"
    }
   ],
   "source": [
    "recent_teams.reset_index()"
   ]
  },
  {
   "cell_type": "code",
   "execution_count": 29,
   "metadata": {},
   "outputs": [
    {
     "data": {
      "text/plain": [
       "yearID                                2015\n",
       "lgID                                    NL\n",
       "teamID                                 ARI\n",
       "franchID                               ARI\n",
       "divID                                    W\n",
       "Rank                                     3\n",
       "G                                      162\n",
       "Ghome                                   81\n",
       "W                                       79\n",
       "L                                       83\n",
       "DivWin                                   N\n",
       "WCWin                                    N\n",
       "LgWin                                    N\n",
       "WSWin                                    N\n",
       "R                                      720\n",
       "AB                                    5649\n",
       "H                                     1494\n",
       "2B                                     289\n",
       "3B                                      48\n",
       "HR                                     154\n",
       "BB                                     490\n",
       "SO                                    1312\n",
       "SB                                     132\n",
       "CS                                      44\n",
       "HBP                                     33\n",
       "SF                                      57\n",
       "RA                                     713\n",
       "ER                                     659\n",
       "ERA                                   4.04\n",
       "CG                                       1\n",
       "SHO                                     12\n",
       "SV                                      44\n",
       "IPouts                                4400\n",
       "HA                                    1450\n",
       "HRA                                    182\n",
       "BBA                                    500\n",
       "SOA                                   1215\n",
       "E                                       86\n",
       "DP                                     146\n",
       "FP                                   0.986\n",
       "name                  Arizona Diamondbacks\n",
       "park                           Chase Field\n",
       "attendance                     2.08014e+06\n",
       "BPF                                    107\n",
       "PPF                                    106\n",
       "teamIDBR                               ARI\n",
       "teamIDlahman45                         ARI\n",
       "teamIDretro                            ARI\n",
       "ratio                              178.218\n",
       "scored_per_allowed                 1.00982\n",
       "Name: 2775, dtype: object"
      ]
     },
     "execution_count": 29,
     "metadata": {},
     "output_type": "execute_result"
    }
   ],
   "source": [
    "recent_teams.loc[2775, ]"
   ]
  },
  {
   "cell_type": "code",
   "execution_count": 30,
   "metadata": {},
   "outputs": [],
   "source": [
    "recent_teams_stats = recent_teams.drop(columns=['lgID', 'teamID', 'franchID', 'divID', 'DivWin', \n",
    "                                       'WCWin', 'LgWin', 'WSWin', 'name', 'park', \n",
    "                                       'teamIDBR', 'teamIDlahman45', 'teamIDretro'])"
   ]
  },
  {
   "cell_type": "code",
   "execution_count": 31,
   "metadata": {},
   "outputs": [
    {
     "data": {
      "text/html": [
       "<div>\n",
       "<style scoped>\n",
       "    .dataframe tbody tr th:only-of-type {\n",
       "        vertical-align: middle;\n",
       "    }\n",
       "\n",
       "    .dataframe tbody tr th {\n",
       "        vertical-align: top;\n",
       "    }\n",
       "\n",
       "    .dataframe thead th {\n",
       "        text-align: right;\n",
       "    }\n",
       "</style>\n",
       "<table border=\"1\" class=\"dataframe\">\n",
       "  <thead>\n",
       "    <tr style=\"text-align: right;\">\n",
       "      <th></th>\n",
       "      <th>yearID</th>\n",
       "      <th>Rank</th>\n",
       "      <th>G</th>\n",
       "      <th>Ghome</th>\n",
       "      <th>W</th>\n",
       "      <th>L</th>\n",
       "      <th>R</th>\n",
       "      <th>AB</th>\n",
       "      <th>H</th>\n",
       "      <th>2B</th>\n",
       "      <th>...</th>\n",
       "      <th>BBA</th>\n",
       "      <th>SOA</th>\n",
       "      <th>E</th>\n",
       "      <th>DP</th>\n",
       "      <th>FP</th>\n",
       "      <th>attendance</th>\n",
       "      <th>BPF</th>\n",
       "      <th>PPF</th>\n",
       "      <th>ratio</th>\n",
       "      <th>scored_per_allowed</th>\n",
       "    </tr>\n",
       "  </thead>\n",
       "  <tbody>\n",
       "    <tr>\n",
       "      <th>2775</th>\n",
       "      <td>2015</td>\n",
       "      <td>3</td>\n",
       "      <td>162</td>\n",
       "      <td>81.0</td>\n",
       "      <td>79</td>\n",
       "      <td>83</td>\n",
       "      <td>720</td>\n",
       "      <td>5649</td>\n",
       "      <td>1494</td>\n",
       "      <td>289</td>\n",
       "      <td>...</td>\n",
       "      <td>500</td>\n",
       "      <td>1215</td>\n",
       "      <td>86</td>\n",
       "      <td>146</td>\n",
       "      <td>0.986</td>\n",
       "      <td>2080145.0</td>\n",
       "      <td>107</td>\n",
       "      <td>106</td>\n",
       "      <td>178.217822</td>\n",
       "      <td>1.009818</td>\n",
       "    </tr>\n",
       "    <tr>\n",
       "      <th>2776</th>\n",
       "      <td>2015</td>\n",
       "      <td>4</td>\n",
       "      <td>162</td>\n",
       "      <td>81.0</td>\n",
       "      <td>67</td>\n",
       "      <td>95</td>\n",
       "      <td>573</td>\n",
       "      <td>5420</td>\n",
       "      <td>1361</td>\n",
       "      <td>251</td>\n",
       "      <td>...</td>\n",
       "      <td>550</td>\n",
       "      <td>1148</td>\n",
       "      <td>90</td>\n",
       "      <td>186</td>\n",
       "      <td>0.985</td>\n",
       "      <td>2001392.0</td>\n",
       "      <td>97</td>\n",
       "      <td>97</td>\n",
       "      <td>129.931973</td>\n",
       "      <td>0.753947</td>\n",
       "    </tr>\n",
       "    <tr>\n",
       "      <th>2777</th>\n",
       "      <td>2015</td>\n",
       "      <td>3</td>\n",
       "      <td>162</td>\n",
       "      <td>78.0</td>\n",
       "      <td>81</td>\n",
       "      <td>81</td>\n",
       "      <td>713</td>\n",
       "      <td>5485</td>\n",
       "      <td>1370</td>\n",
       "      <td>246</td>\n",
       "      <td>...</td>\n",
       "      <td>483</td>\n",
       "      <td>1233</td>\n",
       "      <td>77</td>\n",
       "      <td>134</td>\n",
       "      <td>0.987</td>\n",
       "      <td>2281202.0</td>\n",
       "      <td>103</td>\n",
       "      <td>104</td>\n",
       "      <td>176.049383</td>\n",
       "      <td>1.028860</td>\n",
       "    </tr>\n",
       "    <tr>\n",
       "      <th>2778</th>\n",
       "      <td>2015</td>\n",
       "      <td>5</td>\n",
       "      <td>162</td>\n",
       "      <td>81.0</td>\n",
       "      <td>78</td>\n",
       "      <td>84</td>\n",
       "      <td>748</td>\n",
       "      <td>5640</td>\n",
       "      <td>1495</td>\n",
       "      <td>294</td>\n",
       "      <td>...</td>\n",
       "      <td>478</td>\n",
       "      <td>1218</td>\n",
       "      <td>97</td>\n",
       "      <td>148</td>\n",
       "      <td>0.984</td>\n",
       "      <td>2880694.0</td>\n",
       "      <td>104</td>\n",
       "      <td>107</td>\n",
       "      <td>173.549884</td>\n",
       "      <td>0.993360</td>\n",
       "    </tr>\n",
       "    <tr>\n",
       "      <th>2779</th>\n",
       "      <td>2015</td>\n",
       "      <td>4</td>\n",
       "      <td>162</td>\n",
       "      <td>81.0</td>\n",
       "      <td>76</td>\n",
       "      <td>86</td>\n",
       "      <td>622</td>\n",
       "      <td>5533</td>\n",
       "      <td>1381</td>\n",
       "      <td>260</td>\n",
       "      <td>...</td>\n",
       "      <td>474</td>\n",
       "      <td>1359</td>\n",
       "      <td>101</td>\n",
       "      <td>159</td>\n",
       "      <td>0.983</td>\n",
       "      <td>1755810.0</td>\n",
       "      <td>92</td>\n",
       "      <td>93</td>\n",
       "      <td>156.281407</td>\n",
       "      <td>0.887304</td>\n",
       "    </tr>\n",
       "  </tbody>\n",
       "</table>\n",
       "<p>5 rows × 37 columns</p>\n",
       "</div>"
      ],
      "text/plain": [
       "      yearID  Rank    G  Ghome   W   L    R    AB     H   2B  ...  BBA   SOA  \\\n",
       "2775    2015     3  162   81.0  79  83  720  5649  1494  289  ...  500  1215   \n",
       "2776    2015     4  162   81.0  67  95  573  5420  1361  251  ...  550  1148   \n",
       "2777    2015     3  162   78.0  81  81  713  5485  1370  246  ...  483  1233   \n",
       "2778    2015     5  162   81.0  78  84  748  5640  1495  294  ...  478  1218   \n",
       "2779    2015     4  162   81.0  76  86  622  5533  1381  260  ...  474  1359   \n",
       "\n",
       "        E   DP     FP  attendance  BPF  PPF       ratio  scored_per_allowed  \n",
       "2775   86  146  0.986   2080145.0  107  106  178.217822            1.009818  \n",
       "2776   90  186  0.985   2001392.0   97   97  129.931973            0.753947  \n",
       "2777   77  134  0.987   2281202.0  103  104  176.049383            1.028860  \n",
       "2778   97  148  0.984   2880694.0  104  107  173.549884            0.993360  \n",
       "2779  101  159  0.983   1755810.0   92   93  156.281407            0.887304  \n",
       "\n",
       "[5 rows x 37 columns]"
      ]
     },
     "execution_count": 31,
     "metadata": {},
     "output_type": "execute_result"
    }
   ],
   "source": [
    "recent_teams_stats.head()"
   ]
  },
  {
   "cell_type": "code",
   "execution_count": 32,
   "metadata": {},
   "outputs": [],
   "source": [
    "recent_team_min = recent_teams.loc[:, ('ER', 'R', 'RA', 'W')]"
   ]
  },
  {
   "cell_type": "code",
   "execution_count": 33,
   "metadata": {},
   "outputs": [
    {
     "data": {
      "text/html": [
       "<div>\n",
       "<style scoped>\n",
       "    .dataframe tbody tr th:only-of-type {\n",
       "        vertical-align: middle;\n",
       "    }\n",
       "\n",
       "    .dataframe tbody tr th {\n",
       "        vertical-align: top;\n",
       "    }\n",
       "\n",
       "    .dataframe thead th {\n",
       "        text-align: right;\n",
       "    }\n",
       "</style>\n",
       "<table border=\"1\" class=\"dataframe\">\n",
       "  <thead>\n",
       "    <tr style=\"text-align: right;\">\n",
       "      <th></th>\n",
       "      <th>ER</th>\n",
       "      <th>R</th>\n",
       "      <th>RA</th>\n",
       "      <th>W</th>\n",
       "    </tr>\n",
       "  </thead>\n",
       "  <tbody>\n",
       "    <tr>\n",
       "      <th>2775</th>\n",
       "      <td>659</td>\n",
       "      <td>720</td>\n",
       "      <td>713</td>\n",
       "      <td>79</td>\n",
       "    </tr>\n",
       "    <tr>\n",
       "      <th>2776</th>\n",
       "      <td>698</td>\n",
       "      <td>573</td>\n",
       "      <td>760</td>\n",
       "      <td>67</td>\n",
       "    </tr>\n",
       "    <tr>\n",
       "      <th>2777</th>\n",
       "      <td>646</td>\n",
       "      <td>713</td>\n",
       "      <td>693</td>\n",
       "      <td>81</td>\n",
       "    </tr>\n",
       "    <tr>\n",
       "      <th>2778</th>\n",
       "      <td>694</td>\n",
       "      <td>748</td>\n",
       "      <td>753</td>\n",
       "      <td>78</td>\n",
       "    </tr>\n",
       "    <tr>\n",
       "      <th>2779</th>\n",
       "      <td>643</td>\n",
       "      <td>622</td>\n",
       "      <td>701</td>\n",
       "      <td>76</td>\n",
       "    </tr>\n",
       "  </tbody>\n",
       "</table>\n",
       "</div>"
      ],
      "text/plain": [
       "       ER    R   RA   W\n",
       "2775  659  720  713  79\n",
       "2776  698  573  760  67\n",
       "2777  646  713  693  81\n",
       "2778  694  748  753  78\n",
       "2779  643  622  701  76"
      ]
     },
     "execution_count": 33,
     "metadata": {},
     "output_type": "execute_result"
    }
   ],
   "source": [
    "recent_team_min.head()"
   ]
  },
  {
   "cell_type": "code",
   "execution_count": 34,
   "metadata": {},
   "outputs": [],
   "source": [
    "from sklearn.model_selection import train_test_split\n",
    "\n",
    "train_set, test_set = train_test_split(recent_team_min, test_size=0.2, random_state=42)"
   ]
  },
  {
   "cell_type": "code",
   "execution_count": 35,
   "metadata": {},
   "outputs": [],
   "source": [
    "X_train, y_train, X_test, y_test = train_set.loc[:, (\"ER\", \"R\", \"RA\")], train_set[\"W\"], test_set.loc[:, (\"ER\", \"R\", \"RA\")], test_set[\"W\"]"
   ]
  },
  {
   "cell_type": "code",
   "execution_count": 36,
   "metadata": {},
   "outputs": [
    {
     "data": {
      "text/plain": [
       "LinearRegression()"
      ]
     },
     "execution_count": 36,
     "metadata": {},
     "output_type": "execute_result"
    }
   ],
   "source": [
    "from sklearn.linear_model import LinearRegression\n",
    "\n",
    "#X_train.reshape(-1, 1)\n",
    "\n",
    "teams_reg = LinearRegression()\n",
    "teams_reg.fit(X_train, y_train)"
   ]
  },
  {
   "cell_type": "code",
   "execution_count": 37,
   "metadata": {},
   "outputs": [
    {
     "name": "stdout",
     "output_type": "stream",
     "text": [
      "Predictions:\t [73.94437959 73.42835216 92.89070453 89.35727965 79.98381393]\n",
      "Labels:\t\t [74, 68, 92, 95, 74]\n"
     ]
    }
   ],
   "source": [
    "print(\"Predictions:\\t\", teams_reg.predict(X_train.iloc[:5]))\n",
    "print(\"Labels:\\t\\t\", list(y_train.iloc[:5]))"
   ]
  },
  {
   "cell_type": "code",
   "execution_count": 38,
   "metadata": {},
   "outputs": [
    {
     "data": {
      "text/plain": [
       "4.17471109410321"
      ]
     },
     "execution_count": 38,
     "metadata": {},
     "output_type": "execute_result"
    }
   ],
   "source": [
    "from sklearn.metrics import mean_squared_error\n",
    "\n",
    "team_win_pred = teams_reg.predict(X_train)\n",
    "team_reg_mse = mean_squared_error(y_train, team_win_pred)\n",
    "team_reg_rmse = np.sqrt(team_reg_mse)\n",
    "team_reg_rmse"
   ]
  },
  {
   "cell_type": "code",
   "execution_count": 39,
   "metadata": {},
   "outputs": [
    {
     "data": {
      "text/plain": [
       "DecisionTreeRegressor()"
      ]
     },
     "execution_count": 39,
     "metadata": {},
     "output_type": "execute_result"
    }
   ],
   "source": [
    "from sklearn.tree import DecisionTreeRegressor\n",
    "\n",
    "tree_reg = DecisionTreeRegressor()\n",
    "tree_reg.fit(X_train, y_train)"
   ]
  },
  {
   "cell_type": "code",
   "execution_count": 40,
   "metadata": {},
   "outputs": [
    {
     "data": {
      "text/plain": [
       "0.0"
      ]
     },
     "execution_count": 40,
     "metadata": {},
     "output_type": "execute_result"
    }
   ],
   "source": [
    "win_predictions = tree_reg.predict(X_train)\n",
    "tree_mse = mean_squared_error(y_train, win_predictions)\n",
    "tree_rmse = np.sqrt(tree_mse)\n",
    "tree_rmse"
   ]
  },
  {
   "cell_type": "code",
   "execution_count": 41,
   "metadata": {},
   "outputs": [],
   "source": [
    "from sklearn.model_selection import cross_val_score\n",
    "scores = cross_val_score(tree_reg, X_train, y_train, scoring='neg_mean_squared_error', cv=3)\n",
    "rmse_scores = np.sqrt(-scores)"
   ]
  },
  {
   "cell_type": "code",
   "execution_count": 42,
   "metadata": {},
   "outputs": [],
   "source": [
    "def display_scores(scores):\n",
    "    print(\"Scores:\", scores)\n",
    "    print(\"Mean:\", scores.mean())\n",
    "    print(\"Standard Deviation:\", scores.std())"
   ]
  },
  {
   "cell_type": "code",
   "execution_count": 43,
   "metadata": {},
   "outputs": [
    {
     "name": "stdout",
     "output_type": "stream",
     "text": [
      "Scores: [9.13920128 6.42845238 8.36062199]\n",
      "Mean: 7.976091881430858\n",
      "Standard Deviation: 1.1395722731092648\n"
     ]
    }
   ],
   "source": [
    "display_scores(rmse_scores)"
   ]
  },
  {
   "cell_type": "code",
   "execution_count": 44,
   "metadata": {},
   "outputs": [
    {
     "name": "stdout",
     "output_type": "stream",
     "text": [
      "Scores: [3.80501762 4.49413494 4.61348256]\n",
      "Mean: 4.304211704762609\n",
      "Standard Deviation: 0.35633038606797446\n"
     ]
    }
   ],
   "source": [
    "lin_scores = cross_val_score(teams_reg, X_train, y_train, scoring=\"neg_mean_squared_error\", cv=3)\n",
    "lin_rmse_scores = np.sqrt(-lin_scores)\n",
    "display_scores(lin_rmse_scores)"
   ]
  },
  {
   "cell_type": "code",
   "execution_count": 45,
   "metadata": {},
   "outputs": [
    {
     "name": "stdout",
     "output_type": "stream",
     "text": [
      "Scores: [4.849767   5.32511479 6.06344292]\n",
      "Mean: 5.412774902857167\n",
      "Standard Deviation: 0.4993432530163129\n"
     ]
    }
   ],
   "source": [
    "from sklearn.ensemble import RandomForestRegressor\n",
    "forest_reg = RandomForestRegressor()\n",
    "forest_reg.fit(X_train, y_train)\n",
    "forest_predictions = cross_val_score(forest_reg, X_train, y_train, scoring=\"neg_mean_squared_error\", cv=3)\n",
    "forest_rmse_scores = np.sqrt(-forest_predictions)\n",
    "display_scores(forest_rmse_scores)"
   ]
  },
  {
   "cell_type": "code",
   "execution_count": 46,
   "metadata": {},
   "outputs": [
    {
     "data": {
      "text/plain": [
       "47"
      ]
     },
     "execution_count": 46,
     "metadata": {},
     "output_type": "execute_result"
    }
   ],
   "source": [
    "recent_teams_stats[\"W\"].min()"
   ]
  },
  {
   "cell_type": "code",
   "execution_count": 47,
   "metadata": {},
   "outputs": [
    {
     "data": {
      "text/plain": [
       "108"
      ]
     },
     "execution_count": 47,
     "metadata": {},
     "output_type": "execute_result"
    }
   ],
   "source": [
    "recent_teams_stats[\"W\"].max()"
   ]
  }
 ],
 "metadata": {
  "kernelspec": {
   "display_name": "Python 3",
   "language": "python",
   "name": "python3"
  },
  "language_info": {
   "codemirror_mode": {
    "name": "ipython",
    "version": 3
   },
   "file_extension": ".py",
   "mimetype": "text/x-python",
   "name": "python",
   "nbconvert_exporter": "python",
   "pygments_lexer": "ipython3",
   "version": "3.8.5"
  }
 },
 "nbformat": 4,
 "nbformat_minor": 4
}
